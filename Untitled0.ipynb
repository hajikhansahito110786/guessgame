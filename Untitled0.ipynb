{
  "nbformat": 4,
  "nbformat_minor": 0,
  "metadata": {
    "colab": {
      "provenance": [],
      "authorship_tag": "ABX9TyOf06IId8dI7F3n4yf5pDD8",
      "include_colab_link": true
    },
    "kernelspec": {
      "name": "python3",
      "display_name": "Python 3"
    },
    "language_info": {
      "name": "python"
    }
  },
  "cells": [
    {
      "cell_type": "markdown",
      "metadata": {
        "id": "view-in-github",
        "colab_type": "text"
      },
      "source": [
        "<a href=\"https://colab.research.google.com/github/hajikhansahito110786/guessgame/blob/main/Untitled0.ipynb\" target=\"_parent\"><img src=\"https://colab.research.google.com/assets/colab-badge.svg\" alt=\"Open In Colab\"/></a>"
      ]
    },
    {
      "cell_type": "code",
      "execution_count": null,
      "metadata": {
        "id": "ZsvnqypKWjMB"
      },
      "outputs": [],
      "source": []
    },
    {
      "cell_type": "code",
      "source": [
        "choices=[\"rock\",\"paper\",\"scisor\"]\n",
        "\n",
        "while true:\n",
        "  user-choice=input(\"choose rock , paper or scisor\").lower\n",
        "  if user-choice not in user-choice:\n",
        "    print(\"please feed proper data\")\n",
        "    continue\n",
        "  computer-choice=random.choice(choices)\n"
      ],
      "metadata": {
        "id": "mCvzO6tC410s"
      },
      "execution_count": null,
      "outputs": []
    },
    {
      "cell_type": "code",
      "source": [
        "name:str=str(input(\"name please\"))\n",
        "city:str=str(input(\"city please\"))\n",
        "verb:str=str(input(\"verb doing please\"))\n",
        "animal:str=str(input(\"animal please\"))\n",
        "adjective=str(input(\"adjective please\"))\n",
        "\n",
        "print(f\"One day {name} went to {city} zoo where he saw {adjective} {animal} was {verb} \")\n",
        "\n",
        "\n",
        "\n"
      ],
      "metadata": {
        "colab": {
          "base_uri": "https://localhost:8080/"
        },
        "id": "AKHcvhUrWnfr",
        "outputId": "a5e63d23-414a-4e93-b2a7-ff2035c8288a"
      },
      "execution_count": null,
      "outputs": [
        {
          "output_type": "stream",
          "name": "stdout",
          "text": [
            "name pleasehk\n",
            "city pleasekhi\n",
            "verb doing pleasewalking\n",
            "animal pleasehk\n",
            "adjective pleasefast\n",
            "One day hk went to khi zoo where he saw fast hk was walking \n"
          ]
        }
      ]
    },
    {
      "cell_type": "code",
      "source": [
        "import random\n",
        "print(\"Computer has selected one guess no try to findout\")\n",
        "guessno:int=random.randint(1,10)\n",
        "#print(guessno)\n",
        "try:\n",
        "    while True:\n",
        "        youranswer:int=int(input(\"your number plz\"))\n",
        "\n",
        "        if youranswer==guessno:\n",
        "            print(\"corect you won \")\n",
        "            break\n",
        "        elif youranswer < guessno:\n",
        "            print(\"little bit more\")\n",
        "        elif youranswer > guessno:\n",
        "            print(\"littlebit less\")\n",
        "\n",
        "\n",
        "except ValueError:\n",
        "    print(\"enter coorect entry\")\n",
        "\n",
        "\n"
      ],
      "metadata": {
        "colab": {
          "base_uri": "https://localhost:8080/"
        },
        "id": "QONkdHt4aKwx",
        "outputId": "49a01941-57a5-47a0-c628-d616460a425d"
      },
      "execution_count": null,
      "outputs": [
        {
          "output_type": "stream",
          "name": "stdout",
          "text": [
            "Computer has selected one guess no try to findout\n",
            "your number plz78\n",
            "littlebit less\n"
          ]
        }
      ]
    }
  ]
}